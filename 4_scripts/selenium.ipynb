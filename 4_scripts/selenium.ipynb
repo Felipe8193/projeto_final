{
  "cells": [
    {
      "cell_type": "code",
      "execution_count": 1,
      "metadata": {
        "id": "W46vFWUh0EJA"
      },
      "outputs": [],
      "source": [
        "import pandas as pd\n",
        "from selenium import webdriver\n",
        "from selenium.webdriver.common.by  import By"
      ]
    },
    {
      "cell_type": "code",
      "execution_count": 2,
      "metadata": {
        "id": "nE3f0-QJ0EJJ"
      },
      "outputs": [],
      "source": [
        "navegador = webdriver.Edge()"
      ]
    },
    {
      "cell_type": "code",
      "execution_count": 3,
      "metadata": {
        "id": "pIceUQQ60EJK"
      },
      "outputs": [],
      "source": [
        "navegador.get('https://pt.wikipedia.org/wiki/Taxa_de_desemprego_no_Brasil#:~:text=O%20forte%20aumento%20do%20desemprego,%25)%20em%20setembro%20de%202020.&text=Desemprego%20desde%20mar%C3%A7o%20de%202012,vertical%20corresponde%20a%20um%20m%C3%AAs.')"
      ]
    },
    {
      "cell_type": "code",
      "execution_count": 4,
      "metadata": {
        "colab": {
          "base_uri": "https://localhost:8080/",
          "height": 211
        },
        "id": "rYBtT8fg0EJQ",
        "outputId": "4ec24669-abbf-4a15-e638-9c71974dde7f"
      },
      "outputs": [
        {
          "name": "stdout",
          "output_type": "stream",
          "text": [
            "['2013', '2014', '2015', '2016', '2017', '2018', '2019', '2020', '2021', '2022', '2023']\n"
          ]
        }
      ],
      "source": [
        "ano_num = []\n",
        "for i in range(3, 14):\n",
        "    ano = navegador.find_element(By.XPATH, '//*[@id=\"mw-content-text\"]/div[1]/table[2]/tbody/tr['+str(i)+']/td[1]/b').text\n",
        "    ano_num.append(ano)\n",
        "print(ano_num)"
      ]
    },
    {
      "cell_type": "code",
      "execution_count": 5,
      "metadata": {
        "id": "Mgglnjmx0EJS"
      },
      "outputs": [],
      "source": [
        "df = pd.DataFrame(ano_num, columns=['ano'])"
      ]
    },
    {
      "cell_type": "code",
      "execution_count": 6,
      "metadata": {
        "id": "uI721rYR0EJU",
        "outputId": "052c6779-16e3-46d9-8730-dd57414b2f8a"
      },
      "outputs": [
        {
          "name": "stdout",
          "output_type": "stream",
          "text": [
            "['7,3%', '6,5%', '6,9%', '9,6%', '12,7%', '12,3%', '12,2%', '11,4%', '14,5%', '11,2%', '8,4%']\n"
          ]
        }
      ],
      "source": [
        " jan = []\n",
        "for i in range(3, 14):\n",
        "    desemprego_em_jan = navegador.find_element(By.XPATH, '//*[@id=\"mw-content-text\"]/div[1]/table[2]/tbody/tr['+str(i)+']/td[2]').text\n",
        "    jan.append(desemprego_em_jan)\n",
        "print(jan)"
      ]
    },
    {
      "cell_type": "code",
      "execution_count": 7,
      "metadata": {},
      "outputs": [
        {
          "name": "stdout",
          "output_type": "stream",
          "text": [
            "['7,8%', '6,8%', '7,6%', '10,3%', '13,3%', '12,7%', '12,6%', '11,8%', '14,6%', '11,2%', '8,6%']\n"
          ]
        }
      ],
      "source": [
        "Fev = []\n",
        "for i in range(3, 14):\n",
        "    desemprego_em_Fev = navegador.find_element(By.XPATH, '//*[@id=\"mw-content-text\"]/div[1]/table[2]/tbody/tr['+str(i)+']/td[3]').text\n",
        "    Fev.append(desemprego_em_Fev)\n",
        "print(Fev)"
      ]
    },
    {
      "cell_type": "code",
      "execution_count": 8,
      "metadata": {},
      "outputs": [
        {
          "name": "stdout",
          "output_type": "stream",
          "text": [
            "['8,1%', '7,2%', '8,0%', '11,1%', '13,9%', '13,2%', '12,8%', '12,4%', '14,9%', '11,1%', '8,8%']\n"
          ]
        }
      ],
      "source": [
        "Mar = []\n",
        "for i in range(3, 14):\n",
        "    desemprego_em_Mar = navegador.find_element(By.XPATH, '//*[@id=\"mw-content-text\"]/div[1]/table[2]/tbody/tr['+str(i)+']/td[4]').text\n",
        "    Mar.append(desemprego_em_Mar)\n",
        "print(Mar)"
      ]
    },
    {
      "cell_type": "code",
      "execution_count": 9,
      "metadata": {},
      "outputs": [
        {
          "name": "stdout",
          "output_type": "stream",
          "text": [
            "['7,9%', '7,2%', '8,1%', '11,3%', '13,7%', '13,0%', '12,6%', '12,7%', '14,8%', '10,5%', '8,5%']\n"
          ]
        }
      ],
      "source": [
        "Abr = []\n",
        "for i in range(3, 14):\n",
        "    desemprego_em_Abr = navegador.find_element(By.XPATH, '//*[@id=\"mw-content-text\"]/div[1]/table[2]/tbody/tr['+str(i)+']/td[5]').text\n",
        "    Abr.append(desemprego_em_Abr)\n",
        "print(Abr)"
      ]
    },
    {
      "cell_type": "code",
      "execution_count": 10,
      "metadata": {
        "id": "Y4HrOUUp0EJV",
        "outputId": "9e3e9fff-8238-48c2-c223-d72e826f8abd"
      },
      "outputs": [
        {
          "data": {
            "text/html": [
              "<div>\n",
              "<style scoped>\n",
              "    .dataframe tbody tr th:only-of-type {\n",
              "        vertical-align: middle;\n",
              "    }\n",
              "\n",
              "    .dataframe tbody tr th {\n",
              "        vertical-align: top;\n",
              "    }\n",
              "\n",
              "    .dataframe thead th {\n",
              "        text-align: right;\n",
              "    }\n",
              "</style>\n",
              "<table border=\"1\" class=\"dataframe\">\n",
              "  <thead>\n",
              "    <tr style=\"text-align: right;\">\n",
              "      <th></th>\n",
              "      <th>ano</th>\n",
              "      <th>Taxa de desemprego em jan</th>\n",
              "      <th>Taxa de desemprego em Fev</th>\n",
              "      <th>Taxa de desemprego em Mar</th>\n",
              "      <th>Taxa de desemprego em Abr</th>\n",
              "    </tr>\n",
              "  </thead>\n",
              "  <tbody>\n",
              "    <tr>\n",
              "      <th>0</th>\n",
              "      <td>2013</td>\n",
              "      <td>7,3%</td>\n",
              "      <td>7,8%</td>\n",
              "      <td>8,1%</td>\n",
              "      <td>7,9%</td>\n",
              "    </tr>\n",
              "    <tr>\n",
              "      <th>1</th>\n",
              "      <td>2014</td>\n",
              "      <td>6,5%</td>\n",
              "      <td>6,8%</td>\n",
              "      <td>7,2%</td>\n",
              "      <td>7,2%</td>\n",
              "    </tr>\n",
              "    <tr>\n",
              "      <th>2</th>\n",
              "      <td>2015</td>\n",
              "      <td>6,9%</td>\n",
              "      <td>7,6%</td>\n",
              "      <td>8,0%</td>\n",
              "      <td>8,1%</td>\n",
              "    </tr>\n",
              "    <tr>\n",
              "      <th>3</th>\n",
              "      <td>2016</td>\n",
              "      <td>9,6%</td>\n",
              "      <td>10,3%</td>\n",
              "      <td>11,1%</td>\n",
              "      <td>11,3%</td>\n",
              "    </tr>\n",
              "    <tr>\n",
              "      <th>4</th>\n",
              "      <td>2017</td>\n",
              "      <td>12,7%</td>\n",
              "      <td>13,3%</td>\n",
              "      <td>13,9%</td>\n",
              "      <td>13,7%</td>\n",
              "    </tr>\n",
              "    <tr>\n",
              "      <th>5</th>\n",
              "      <td>2018</td>\n",
              "      <td>12,3%</td>\n",
              "      <td>12,7%</td>\n",
              "      <td>13,2%</td>\n",
              "      <td>13,0%</td>\n",
              "    </tr>\n",
              "    <tr>\n",
              "      <th>6</th>\n",
              "      <td>2019</td>\n",
              "      <td>12,2%</td>\n",
              "      <td>12,6%</td>\n",
              "      <td>12,8%</td>\n",
              "      <td>12,6%</td>\n",
              "    </tr>\n",
              "    <tr>\n",
              "      <th>7</th>\n",
              "      <td>2020</td>\n",
              "      <td>11,4%</td>\n",
              "      <td>11,8%</td>\n",
              "      <td>12,4%</td>\n",
              "      <td>12,7%</td>\n",
              "    </tr>\n",
              "    <tr>\n",
              "      <th>8</th>\n",
              "      <td>2021</td>\n",
              "      <td>14,5%</td>\n",
              "      <td>14,6%</td>\n",
              "      <td>14,9%</td>\n",
              "      <td>14,8%</td>\n",
              "    </tr>\n",
              "    <tr>\n",
              "      <th>9</th>\n",
              "      <td>2022</td>\n",
              "      <td>11,2%</td>\n",
              "      <td>11,2%</td>\n",
              "      <td>11,1%</td>\n",
              "      <td>10,5%</td>\n",
              "    </tr>\n",
              "    <tr>\n",
              "      <th>10</th>\n",
              "      <td>2023</td>\n",
              "      <td>8,4%</td>\n",
              "      <td>8,6%</td>\n",
              "      <td>8,8%</td>\n",
              "      <td>8,5%</td>\n",
              "    </tr>\n",
              "  </tbody>\n",
              "</table>\n",
              "</div>"
            ],
            "text/plain": [
              "     ano Taxa de desemprego em jan Taxa de desemprego em Fev  \\\n",
              "0   2013                      7,3%                      7,8%   \n",
              "1   2014                      6,5%                      6,8%   \n",
              "2   2015                      6,9%                      7,6%   \n",
              "3   2016                      9,6%                     10,3%   \n",
              "4   2017                     12,7%                     13,3%   \n",
              "5   2018                     12,3%                     12,7%   \n",
              "6   2019                     12,2%                     12,6%   \n",
              "7   2020                     11,4%                     11,8%   \n",
              "8   2021                     14,5%                     14,6%   \n",
              "9   2022                     11,2%                     11,2%   \n",
              "10  2023                      8,4%                      8,6%   \n",
              "\n",
              "   Taxa de desemprego em Mar Taxa de desemprego em Abr  \n",
              "0                       8,1%                      7,9%  \n",
              "1                       7,2%                      7,2%  \n",
              "2                       8,0%                      8,1%  \n",
              "3                      11,1%                     11,3%  \n",
              "4                      13,9%                     13,7%  \n",
              "5                      13,2%                     13,0%  \n",
              "6                      12,8%                     12,6%  \n",
              "7                      12,4%                     12,7%  \n",
              "8                      14,9%                     14,8%  \n",
              "9                      11,1%                     10,5%  \n",
              "10                      8,8%                      8,5%  "
            ]
          },
          "execution_count": 10,
          "metadata": {},
          "output_type": "execute_result"
        }
      ],
      "source": [
        "df['Taxa de desemprego em jan'] = jan\n",
        "df['Taxa de desemprego em Fev'] = Fev\n",
        "df['Taxa de desemprego em Mar'] = Mar\n",
        "df['Taxa de desemprego em Abr'] = Abr\n",
        "df"
      ]
    },
    {
      "cell_type": "code",
      "execution_count": 11,
      "metadata": {},
      "outputs": [],
      "source": [
        "df.to_csv('../0_bases_originais/dados_originais.csv', sep=';', index=False, encoding='UTF-8')"
      ]
    },
    {
      "cell_type": "code",
      "execution_count": 12,
      "metadata": {},
      "outputs": [],
      "source": [
        "df.to_json('../0_bases_originais/dados_originais.json')"
      ]
    },
    {
      "cell_type": "code",
      "execution_count": 13,
      "metadata": {},
      "outputs": [],
      "source": [
        "df = df.reset_index(drop=True)"
      ]
    },
    {
      "cell_type": "code",
      "execution_count": 14,
      "metadata": {},
      "outputs": [
        {
          "data": {
            "text/plain": [
              "Index(['ano', 'Taxa de desemprego em jan', 'Taxa de desemprego em Fev',\n",
              "       'Taxa de desemprego em Mar', 'Taxa de desemprego em Abr'],\n",
              "      dtype='object')"
            ]
          },
          "execution_count": 14,
          "metadata": {},
          "output_type": "execute_result"
        }
      ],
      "source": [
        "df.columns"
      ]
    },
    {
      "cell_type": "code",
      "execution_count": 15,
      "metadata": {},
      "outputs": [],
      "source": [
        "df = df.replace({'á':'a','ã':'a', 'â':'a', 'í':'i',\n",
        "                'ÅŸ':'s',\n",
        "                'Ä°':'I',\n",
        "                'null':'0',\n",
        "                'Ä±':'i',\n",
        "                'Ã¶':'o',\n",
        "                'Ã§':'c',\n",
        "                'ÄŸ':'g',\n",
        "                'Ã¼':'u',\n",
        "                'Ã©':'e',\n",
        "                'Ã¡':'a',\n",
        "                'Ã³':'o',\n",
        "                'Ã±':'nh',\n",
        "                '&':'',\n",
        "                'Ã…Ë†':'n',\n",
        "                'Ã§':'c',\n",
        "                'Ã­':'i',\n",
        "                'Ã£':'a',\n",
        "                'Ãº':'u',\n",
        "                'Ã':'a',\n",
        "                'Ãª':'e',\n",
        "                'Ã‘':'N',\n",
        "                'aÂ¢':'a',\n",
        "                'aÂª':'e',\n",
        "                'aÂ':'a',\n",
        "                \"á\":\"a\",\n",
        "                \"é\":\"e\",\n",
        "                \"í\":\"i\",\n",
        "                \"ó\":\"o\",\n",
        "                \"ú\":\"u\",\n",
        "                \"ã\":\"a\",\n",
        "                \"õ\":\"o\",\n",
        "                \"aª\":\"e\",\n",
        "                \"á\":\"a\",\n",
        "                \"é\":\"e\",\n",
        "                \"í\":\"i\",\n",
        "                \"ó\":\"o\",\n",
        "                \"ú\":\"u\",\n",
        "                \"ã\":\"a\",\n",
        "                \"õ\":\"o\",\n",
        "                \"ê\":\"e\",\n",
        "                \"â\":\"a\",\n",
        "                \"ô\":\"o\",\n",
        "                \"ê\":\"e\",\n",
        "                \"â\":\"a\",\n",
        "                \"ô\":\"o\"}, regex=True)"
      ]
    },
    {
      "cell_type": "code",
      "execution_count": 16,
      "metadata": {},
      "outputs": [],
      "source": [
        "df.to_csv('../1_bases_tratadas/dados_originais.csv', sep=';', index=False, encoding='UTF-8')"
      ]
    },
    {
      "cell_type": "code",
      "execution_count": 17,
      "metadata": {},
      "outputs": [
        {
          "name": "stdout",
          "output_type": "stream",
          "text": [
            "Defaulting to user installation because normal site-packages is not writeable\n",
            "Requirement already satisfied: sqlalchemy in c:\\users\\2303048\\appdata\\roaming\\python\\python312\\site-packages (2.0.19)\n",
            "Requirement already satisfied: typing-extensions>=4.2.0 in c:\\users\\2303048\\appdata\\roaming\\python\\python312\\site-packages (from sqlalchemy) (4.10.0)\n",
            "Requirement already satisfied: greenlet!=0.4.17 in c:\\users\\2303048\\appdata\\roaming\\python\\python312\\site-packages (from sqlalchemy) (3.0.3)\n"
          ]
        },
        {
          "name": "stderr",
          "output_type": "stream",
          "text": [
            "\n",
            "[notice] A new release of pip is available: 23.2.1 -> 24.0\n",
            "[notice] To update, run: C:\\Program Files\\Python312\\python.exe -m pip install --upgrade pip\n"
          ]
        }
      ],
      "source": [
        "!pip install sqlalchemy"
      ]
    },
    {
      "cell_type": "code",
      "execution_count": 18,
      "metadata": {},
      "outputs": [],
      "source": [
        "import sqlalchemy as db\n",
        "engine = db.create_engine('sqlite:///bancodedados.db', echo = True)"
      ]
    },
    {
      "cell_type": "code",
      "execution_count": 19,
      "metadata": {},
      "outputs": [],
      "source": [
        "conn = engine.connect()"
      ]
    },
    {
      "cell_type": "code",
      "execution_count": 20,
      "metadata": {},
      "outputs": [],
      "source": [
        "csv = '../1_bases_tratadas/dados_originais.csv'"
      ]
    },
    {
      "cell_type": "code",
      "execution_count": 21,
      "metadata": {},
      "outputs": [
        {
          "name": "stdout",
          "output_type": "stream",
          "text": [
            "2024-05-27 21:56:06,133 INFO sqlalchemy.engine.Engine BEGIN (implicit)\n",
            "2024-05-27 21:56:06,142 INFO sqlalchemy.engine.Engine PRAGMA main.table_info(\"bancodedado.db\")\n",
            "2024-05-27 21:56:06,143 INFO sqlalchemy.engine.Engine [raw sql] ()\n",
            "2024-05-27 21:56:06,147 INFO sqlalchemy.engine.Engine PRAGMA temp.table_info(\"bancodedado.db\")\n",
            "2024-05-27 21:56:06,155 INFO sqlalchemy.engine.Engine [raw sql] ()\n",
            "2024-05-27 21:56:06,162 INFO sqlalchemy.engine.Engine \n",
            "CREATE TABLE \"bancodedado.db\" (\n",
            "\t\"index\" BIGINT, \n",
            "\tano TEXT, \n",
            "\t\"Taxa de desemprego em jan\" TEXT, \n",
            "\t\"Taxa de desemprego em Fev\" TEXT, \n",
            "\t\"Taxa de desemprego em Mar\" TEXT, \n",
            "\t\"Taxa de desemprego em Abr\" TEXT\n",
            ")\n",
            "\n",
            "\n",
            "2024-05-27 21:56:06,164 INFO sqlalchemy.engine.Engine [no key 0.00210s] ()\n",
            "2024-05-27 21:56:06,603 INFO sqlalchemy.engine.Engine CREATE INDEX \"ix_bancodedado.db_index\" ON \"bancodedado.db\" (\"index\")\n",
            "2024-05-27 21:56:06,606 INFO sqlalchemy.engine.Engine [no key 0.00312s] ()\n",
            "2024-05-27 21:56:06,935 INFO sqlalchemy.engine.Engine INSERT INTO \"bancodedado.db\" (\"index\", ano, \"Taxa de desemprego em jan\", \"Taxa de desemprego em Fev\", \"Taxa de desemprego em Mar\", \"Taxa de desemprego em Abr\") VALUES (?, ?, ?, ?, ?, ?)\n",
            "2024-05-27 21:56:06,941 INFO sqlalchemy.engine.Engine [generated in 0.00595s] [(0, '2013', '7,3%', '7,8%', '8,1%', '7,9%'), (1, '2014', '6,5%', '6,8%', '7,2%', '7,2%'), (2, '2015', '6,9%', '7,6%', '8,0%', '8,1%'), (3, '2016', '9,6%', '10,3%', '11,1%', '11,3%'), (4, '2017', '12,7%', '13,3%', '13,9%', '13,7%'), (5, '2018', '12,3%', '12,7%', '13,2%', '13,0%'), (6, '2019', '12,2%', '12,6%', '12,8%', '12,6%'), (7, '2020', '11,4%', '11,8%', '12,4%', '12,7%')  ... displaying 10 of 11 total bound parameter sets ...  (9, '2022', '11,2%', '11,2%', '11,1%', '10,5%'), (10, '2023', '8,4%', '8,6%', '8,8%', '8,5%')]\n",
            "2024-05-27 21:56:06,947 INFO sqlalchemy.engine.Engine COMMIT\n"
          ]
        },
        {
          "data": {
            "text/plain": [
              "11"
            ]
          },
          "execution_count": 21,
          "metadata": {},
          "output_type": "execute_result"
        }
      ],
      "source": [
        "df.to_sql('bancodedado.db', con=conn)"
      ]
    },
    {
      "cell_type": "code",
      "execution_count": null,
      "metadata": {},
      "outputs": [],
      "source": []
    }
  ],
  "metadata": {
    "colab": {
      "provenance": []
    },
    "kernelspec": {
      "display_name": "Python 3",
      "language": "python",
      "name": "python3"
    },
    "language_info": {
      "codemirror_mode": {
        "name": "ipython",
        "version": 3
      },
      "file_extension": ".py",
      "mimetype": "text/x-python",
      "name": "python",
      "nbconvert_exporter": "python",
      "pygments_lexer": "ipython3",
      "version": "3.12.2"
    },
    "orig_nbformat": 4
  },
  "nbformat": 4,
  "nbformat_minor": 0
}
